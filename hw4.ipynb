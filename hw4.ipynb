{
 "cells": [
  {
   "cell_type": "code",
   "execution_count": 175,
   "id": "18ace63e-6d71-40b0-825a-d5d4fabab2e7",
   "metadata": {},
   "outputs": [],
   "source": [
    "def github() -> str:\n",
    "    \"\"\"\n",
    "    Some docstrings.\n",
    "    \"\"\"\n",
    "\n",
    "    return \"https://github.com/Zesy08/ECON481/blob/main/hw4.py\""
   ]
  },
  {
   "cell_type": "code",
   "execution_count": 176,
   "id": "f3997e5e-757b-4c8e-8b3c-6cd7d0f36b69",
   "metadata": {},
   "outputs": [],
   "source": [
    "import pandas as pd\n",
    "\n",
    "def load_data() -> pd.DataFrame:\n",
    "    \"\"\"\n",
    "    Some docstrings.\n",
    "    \"\"\"\n",
    "\n",
    "    url = f'https://lukashager.netlify.app/econ-481/data/TSLA.csv'\n",
    "    result = pd.read_csv(url, index_col = 0, parse_dates = True)\n",
    "\n",
    "    return result"
   ]
  },
  {
   "cell_type": "code",
   "execution_count": 177,
   "id": "6551b861-af58-423f-b487-8091a7438977",
   "metadata": {},
   "outputs": [],
   "source": [
    "import matplotlib.pyplot as plt\n",
    "\n",
    "def plot_close(df: pd.DataFrame, start: str = '2010-06-29', end: str = '2024-04-15') -> None:\n",
    "    \"\"\"\n",
    "    Some docstrings\n",
    "    \"\"\"\n",
    "\n",
    "    data = df['Close']\n",
    "\n",
    "    fig, ax = plt.subplots()\n",
    "\n",
    "    data.plot(ax=ax, color = \"black\")\n",
    "\n",
    "    plt.ylabel('Closing Price')\n",
    "    ax.set_title(\"Closing Price from \" + Start + \" to \" + End)\n",
    "    ax.set_xlim([Start, End])"
   ]
  },
  {
   "cell_type": "code",
   "execution_count": 178,
   "id": "e7bf607f-fd5f-4290-a45a-c8e78e02dc26",
   "metadata": {},
   "outputs": [],
   "source": [
    "import statsmodels.api as sm\n",
    "\n",
    "def autoregress(df: pd.DataFrame) -> float:\n",
    "    \"\"\"\n",
    "    Some docstrings.\n",
    "    \"\"\"\n",
    "\n",
    "    data = df[['Close']]\n",
    "\n",
    "    data = data.diff()\n",
    "\n",
    "    data['Lagged'] = data.shift(periods = 1)\n",
    "    \n",
    "    data = data.dropna()\n",
    "    \n",
    "    model = sm.OLS(data['Close'], data['Lagged'])\n",
    "\n",
    "    result = model.fit(cov_type='HC1')\n",
    "\n",
    "    return result.tvalues"
   ]
  },
  {
   "cell_type": "code",
   "execution_count": 179,
   "id": "9e869a66-5cc6-452e-b99f-a556c57f8ac3",
   "metadata": {},
   "outputs": [],
   "source": [
    "import statsmodels.formula.api as smf\n",
    "\n",
    "def autoregress_logit(df: pd.DataFrame) -> float:\n",
    "    \"\"\"\n",
    "    Some docstrings.\n",
    "    \"\"\"\n",
    "\n",
    "    data = df[['Close']]\n",
    "\n",
    "    data['Change'] = data.diff()\n",
    "\n",
    "    data['Lagged'] = data['Change'].shift(periods = 1)\n",
    "    data['Positive'] = (data['Change'] > 0).astype(int)\n",
    "    \n",
    "    data = data.dropna()\n",
    "\n",
    "    result = smf.logit('Positive ~ Lagged', data = data).fit()\n",
    "    \n",
    "    return result.tvalues['Lagged']"
   ]
  },
  {
   "cell_type": "code",
   "execution_count": 180,
   "id": "1a2df6d8-2c9f-4ffd-95f0-fbe447687e01",
   "metadata": {},
   "outputs": [],
   "source": [
    "def plot_delta(df: pd.DataFrame) -> None:\n",
    "    \"\"\"\n",
    "    Some docstrings.\n",
    "    \"\"\"\n",
    "\n",
    "    data = df['Close'].diff()\n",
    "\n",
    "    fig, ax = plt.subplots()\n",
    "\n",
    "    data.plot(ax=ax, color = \"black\")\n",
    "    plt.ylabel('Delta Closing Price')\n",
    "    ax.set_title(\"Change in Closing Price over time\")"
   ]
  }
 ],
 "metadata": {
  "kernelspec": {
   "display_name": "Python 3 (ipykernel)",
   "language": "python",
   "name": "python3"
  },
  "language_info": {
   "codemirror_mode": {
    "name": "ipython",
    "version": 3
   },
   "file_extension": ".py",
   "mimetype": "text/x-python",
   "name": "python",
   "nbconvert_exporter": "python",
   "pygments_lexer": "ipython3",
   "version": "3.10.13"
  }
 },
 "nbformat": 4,
 "nbformat_minor": 5
}
