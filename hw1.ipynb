{
 "cells": [
  {
   "cell_type": "code",
   "execution_count": 2,
   "id": "e370c84d-e9b0-4cad-98c6-4368fd8be5cf",
   "metadata": {},
   "outputs": [],
   "source": [
    "def github() -> str:\n",
    "    return \"https://github.com/Zesy08/ECON481/blob/main/hw1.py\""
   ]
  },
  {
   "cell_type": "code",
   "execution_count": 3,
   "id": "447aefbe-b037-4ad0-a0dd-36e6d4231f08",
   "metadata": {},
   "outputs": [],
   "source": [
    "def evens_and_odds(n: int) -> dict:\n",
    "    my_dict = {\n",
    "        'evens': 0,\n",
    "        'odds': 0\n",
    "    }\n",
    "    for i in range(n):\n",
    "        if i % 2 == 0:\n",
    "            my_dict['evens'] += i\n",
    "        else:\n",
    "            my_dict['odds'] += i\n",
    "    return my_dict"
   ]
  },
  {
   "cell_type": "code",
   "execution_count": 4,
   "id": "c49f725e-509a-4dd8-9b21-6ccd59b63c47",
   "metadata": {},
   "outputs": [],
   "source": [
    "from typing import Union\n",
    "from datetime import datetime, date, time, timedelta\n",
    "\n",
    "def time_diff(date_1: str, date_2: str, out: str) -> Union[str,float]:\n",
    "    dt1 = datetime.strptime(date_1, \"%Y-%m-%d\")\n",
    "    dt2 = datetime.strptime(date_2, \"%Y-%m-%d\")\n",
    "    diff = (dt2-dt1).days\n",
    "    \n",
    "    if diff < 0:\n",
    "        diff *= -1\n",
    "        \n",
    "    if (out == 'string'):\n",
    "        return \"There are \" + str(diff) + \" days between the two dates\"\n",
    "        \n",
    "    return diff"
   ]
  },
  {
   "cell_type": "code",
   "execution_count": 5,
   "id": "0dbd2fbc-f29d-4b2a-8970-73fede4d083e",
   "metadata": {},
   "outputs": [],
   "source": [
    "def reverse(in_list: list) -> list:\n",
    "    rev_list = []\n",
    "    i = len(in_list) - 1\n",
    "    while i > -1:\n",
    "        rev_list.append(in_list[i])\n",
    "        i -= 1\n",
    "\n",
    "    return rev_list"
   ]
  },
  {
   "cell_type": "code",
   "execution_count": 6,
   "id": "4d2cc584-a770-4ae3-ae73-ef3723b7f606",
   "metadata": {},
   "outputs": [],
   "source": [
    "def prob_k_heads(n: int, k: int) -> float:\n",
    "    \n",
    "    n_minus_k_fac = 1\n",
    "    for i in range(1,n-k+1):\n",
    "        n_minus_k_fac *= i\n",
    "        \n",
    "    n_choose_k = 1\n",
    "    for i in range(k+1, n+1):\n",
    "        n_choose_k *= i\n",
    "    n_choose_k /= n_minus_k_fac\n",
    "\n",
    "    return n_choose_k * (0.5**k) * (0.5**(n-k))"
   ]
  }
 ],
 "metadata": {
  "kernelspec": {
   "display_name": "Python 3 (ipykernel)",
   "language": "python",
   "name": "python3"
  },
  "language_info": {
   "codemirror_mode": {
    "name": "ipython",
    "version": 3
   },
   "file_extension": ".py",
   "mimetype": "text/x-python",
   "name": "python",
   "nbconvert_exporter": "python",
   "pygments_lexer": "ipython3",
   "version": "3.10.13"
  }
 },
 "nbformat": 4,
 "nbformat_minor": 5
}
