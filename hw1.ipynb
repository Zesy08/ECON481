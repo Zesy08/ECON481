{
 "cells": [
  {
   "cell_type": "code",
   "execution_count": 3,
   "id": "e370c84d-e9b0-4cad-98c6-4368fd8be5cf",
   "metadata": {},
   "outputs": [
    {
     "data": {
      "text/plain": [
       "'Testing'"
      ]
     },
     "execution_count": 3,
     "metadata": {},
     "output_type": "execute_result"
    }
   ],
   "source": [
    "\"\"\"Testing\"\"\""
   ]
  },
  {
   "cell_type": "code",
   "execution_count": 4,
   "id": "447aefbe-b037-4ad0-a0dd-36e6d4231f08",
   "metadata": {},
   "outputs": [],
   "source": [
    "def evens_and_odds(n):\n",
    "    print(n)"
   ]
  },
  {
   "cell_type": "code",
   "execution_count": 5,
   "id": "e41bf277-c881-4389-8615-b5ad1cf5daee",
   "metadata": {},
   "outputs": [
    {
     "name": "stdout",
     "output_type": "stream",
     "text": [
      "5\n"
     ]
    }
   ],
   "source": [
    "evens_and_odds(5)"
   ]
  }
 ],
 "metadata": {
  "kernelspec": {
   "display_name": "Python 3 (ipykernel)",
   "language": "python",
   "name": "python3"
  },
  "language_info": {
   "codemirror_mode": {
    "name": "ipython",
    "version": 3
   },
   "file_extension": ".py",
   "mimetype": "text/x-python",
   "name": "python",
   "nbconvert_exporter": "python",
   "pygments_lexer": "ipython3",
   "version": "3.10.13"
  }
 },
 "nbformat": 4,
 "nbformat_minor": 5
}
