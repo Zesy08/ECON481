{
 "cells": [
  {
   "cell_type": "code",
   "execution_count": 55,
   "id": "c04b0333-e837-44b6-b334-dd504c2e442d",
   "metadata": {},
   "outputs": [],
   "source": [
    "def github() -> str:\n",
    "    \"\"\"\n",
    "    Returns Github link.\n",
    "    \"\"\"\n",
    "\n",
    "    return \"https://github.com/Zesy08/ECON481/blob/main/hw2.py\""
   ]
  },
  {
   "cell_type": "code",
   "execution_count": 53,
   "id": "6fd9ed83-dd82-4490-8cff-e4db27fd7aa3",
   "metadata": {},
   "outputs": [],
   "source": [
    "import numpy as np\n",
    "\n",
    "def simulate_data(seed=481) -> tuple:\n",
    "    \n",
    "    rng = np.random.default_rng(seed=seed)\n",
    "    x_draws = rng.normal(0, np.sqrt(2), size=1000*3).reshape((1000,-1))\n",
    "    e = rng.standard_normal(size=1000).reshape(1000)\n",
    "\n",
    "    y = 5 + 3*x_draws[:, 0] + 2*x_draws[:, 1] + 6*x_draws[:, 2] + e\n",
    "\n",
    "    return (y, x_draws)"
   ]
  },
  {
   "cell_type": "code",
   "execution_count": 54,
   "id": "36ab252d-4e1a-47e5-b01b-9013085da6e7",
   "metadata": {},
   "outputs": [],
   "source": [
    "import numpy as np\n",
    "import scipy as sp\n",
    "\n",
    "def estimate_mle(y: np.array, X: np.array) -> np.array:\n",
    "\n",
    "    opt_values = sp.optimize.minimize(\n",
    "        fun = mle,\n",
    "        x0 = np.ones(4).reshape(-1),\n",
    "        args = (X, y),\n",
    "        method = 'Nelder-Mead'\n",
    "    )\n",
    "    Beta_hat = opt_values.x\n",
    "\n",
    "    return Beta_hat"
   ]
  },
  {
   "cell_type": "code",
   "execution_count": 49,
   "id": "69be9067-3197-4d89-ae79-5a194b41840e",
   "metadata": {},
   "outputs": [],
   "source": [
    "def mle(Beta: np.array, X: np.array, y: np.array) -> np.array:\n",
    "\n",
    "    X = np.c_[np.ones(X.shape[0]).reshape(-1,1), X]\n",
    "    \n",
    "    e = y - (X @ Beta)\n",
    "    prob_e = (np.exp((-e**2)/2))/(np.sqrt(2*(np.pi)))\n",
    "    sum_prob_e = np.sum(np.log(prob_e))\n",
    "    \n",
    "    return -sum_prob_e"
   ]
  },
  {
   "cell_type": "code",
   "execution_count": 46,
   "id": "344921bb-8eb8-4ffe-b1db-8faf9c91ce09",
   "metadata": {},
   "outputs": [],
   "source": [
    "import numpy as np\n",
    "import scipy as sp\n",
    "\n",
    "def estimate_ols(y: np.array, X: np.array) -> np.array:\n",
    "\n",
    "    opt_values = sp.optimize.minimize(\n",
    "        fun = sse,\n",
    "        x0 = np.ones(4).reshape(-1),\n",
    "        args = (X, y),\n",
    "        method = 'Nelder-Mead'\n",
    "    )\n",
    "    Beta_hat = opt_values.x\n",
    "\n",
    "    return Beta_hat"
   ]
  },
  {
   "cell_type": "code",
   "execution_count": 47,
   "id": "2cfc192d-93e9-4cbc-aba4-434668b7de1c",
   "metadata": {},
   "outputs": [],
   "source": [
    "def sse(Beta: np.array, X: np.array, y: np.array) -> np.array:\n",
    "    \n",
    "    X = np.c_[np.ones(X.shape[0]).reshape(-1,1), X]\n",
    "    \n",
    "    e = y - (X @ Beta)\n",
    "    e_sums = np.sum(np.square(e))\n",
    "    \n",
    "    return e_sums"
   ]
  }
 ],
 "metadata": {
  "kernelspec": {
   "display_name": "Python 3 (ipykernel)",
   "language": "python",
   "name": "python3"
  },
  "language_info": {
   "codemirror_mode": {
    "name": "ipython",
    "version": 3
   },
   "file_extension": ".py",
   "mimetype": "text/x-python",
   "name": "python",
   "nbconvert_exporter": "python",
   "pygments_lexer": "ipython3",
   "version": "3.10.13"
  }
 },
 "nbformat": 4,
 "nbformat_minor": 5
}
