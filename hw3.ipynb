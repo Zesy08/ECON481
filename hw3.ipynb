{
 "cells": [
  {
   "cell_type": "code",
   "execution_count": 117,
   "id": "e96a2c37-4d47-4fc4-b18b-c7d0df60577d",
   "metadata": {},
   "outputs": [],
   "source": [
    "def github() -> str:\n",
    "    \"\"\"\n",
    "    Returns Github link.\n",
    "    \"\"\"\n",
    "\n",
    "    return \"https://github.com/Zesy08/ECON481/blob/main/hw3.py\""
   ]
  },
  {
   "cell_type": "code",
   "execution_count": 118,
   "id": "a1b78d8d-37ed-433b-8cdd-b9658a93f341",
   "metadata": {},
   "outputs": [],
   "source": [
    "import pandas as pd\n",
    "\n",
    "def import_yearly_data(years: list) -> pd.DataFrame:\n",
    "    \"\"\"\n",
    "    Some docstrings.\n",
    "    \"\"\"\n",
    "    result = pd.DataFrame()\n",
    "    \n",
    "    for year in years:\n",
    "        url = f\"https://lukashager.netlify.app/econ-481/data/ghgp_data_{year}.xlsx\"\n",
    "        test = pd.read_excel(url, sheet_name = 'Direct Emitters', index_col = False, skiprows = 3)\n",
    "        test[\"year\"] = year\n",
    "        result = pd.concat([result, test], ignore_index = True)\n",
    "\n",
    "    return result"
   ]
  },
  {
   "cell_type": "code",
   "execution_count": 119,
   "id": "4cc63d93-a0af-48d4-94e8-a620146c58fd",
   "metadata": {},
   "outputs": [],
   "source": [
    "import pandas as pd\n",
    "\n",
    "def import_parent_companies(years: list) -> pd.DataFrame:\n",
    "    \"\"\"\n",
    "    Some docstrings.\n",
    "    \"\"\"\n",
    "    result = pd.DataFrame()\n",
    "\n",
    "    for year in years:\n",
    "        url = f\"https://lukashager.netlify.app/econ-481/data/ghgp_data_parent_company_09_2023.xlsb\"\n",
    "        test = pd.read_excel(url, sheet_name = year, index_col = False)\n",
    "        test[\"year\"] = year\n",
    "        result = pd.concat([result, test], ignore_index = True)\n",
    "\n",
    "    result = result.dropna(how = 'all')\n",
    "    return result"
   ]
  },
  {
   "cell_type": "code",
   "execution_count": 120,
   "id": "a93eaf5f-ca15-4da3-9781-698cce4e810c",
   "metadata": {},
   "outputs": [],
   "source": [
    "def n_null(df: pd.DataFrame, col: str) -> int:\n",
    "    \"\"\"\n",
    "    Returns amount of nulls in a certain column\n",
    "    \"\"\"\n",
    "\n",
    "    return df[col].isnull().sum()"
   ]
  },
  {
   "cell_type": "code",
   "execution_count": 121,
   "id": "2ab8248a-8d86-4248-acf1-3ee4a6ec92b5",
   "metadata": {},
   "outputs": [],
   "source": [
    "def clean_data(emissions_data: pd.DataFrame, parent_data: pd.DataFrame) -> pd.DataFrame:\n",
    "    \"\"\"\n",
    "    Some docstrings.\n",
    "    \"\"\"\n",
    "    temp = pd.merge(emissions_data, parent_data, left_on=['year', 'Facility Id'], right_on=['year', 'GHGRP FACILITY ID'], how='left')\n",
    "\n",
    "    result = temp[['Facility Id', 'year', 'State', 'Industry Type (sectors)', \n",
    "                   'Total reported direct emissions', 'PARENT CO. STATE', 'PARENT CO. PERCENT OWNERSHIP']]\n",
    "\n",
    "    result.columns = map(str.lower, result.columns)\n",
    "\n",
    "    return result"
   ]
  },
  {
   "cell_type": "code",
   "execution_count": 122,
   "id": "ae4b719e-6c3e-4c98-ab14-94b7de4808bc",
   "metadata": {},
   "outputs": [],
   "source": [
    "def aggregate_emissions(df: pd.DataFrame, group_vars: list) -> pd.DataFrame:\n",
    "    \"\"\"\n",
    "    Some docstrings.\n",
    "    \"\"\"\n",
    "    ans = df.groupby(group_vars).agg({'total reported direct emissions': ['min', 'median', 'mean', 'max'], \n",
    "                                      'parent co. percent ownership': ['min', 'median', 'mean', 'max']}, as_index=True)\n",
    "    \n",
    "    ans = ans.sort_values(by=('total reported direct emissions', 'mean'), ascending=False)\n",
    "\n",
    "    return ans"
   ]
  }
 ],
 "metadata": {
  "kernelspec": {
   "display_name": "Python 3 (ipykernel)",
   "language": "python",
   "name": "python3"
  },
  "language_info": {
   "codemirror_mode": {
    "name": "ipython",
    "version": 3
   },
   "file_extension": ".py",
   "mimetype": "text/x-python",
   "name": "python",
   "nbconvert_exporter": "python",
   "pygments_lexer": "ipython3",
   "version": "3.10.13"
  }
 },
 "nbformat": 4,
 "nbformat_minor": 5
}
