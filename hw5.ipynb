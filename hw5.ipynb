{
 "cells": [
  {
   "cell_type": "code",
   "execution_count": 56,
   "id": "a2ec3527-f714-46e4-bfdb-a97e3ba1dbac",
   "metadata": {},
   "outputs": [],
   "source": [
    "def github() -> str:\n",
    "    \"\"\"\n",
    "    Some docstrings.\n",
    "    \"\"\"\n",
    "\n",
    "    return \"https://github.com/Zesy08/ECON481/blob/main/hw5.py\""
   ]
  },
  {
   "cell_type": "code",
   "execution_count": 54,
   "id": "a5b621e9-f537-44f0-b303-d08795ff6201",
   "metadata": {},
   "outputs": [],
   "source": [
    "import requests\n",
    "from bs4 import BeautifulSoup\n",
    "\n",
    "def scrape_code(url: str) -> str:\n",
    "    \"\"\"\n",
    "    Some docstrings.\n",
    "    \"\"\"\n",
    "    r1 = requests.get(url)\n",
    "    assert r1.ok\n",
    "    r1_bs = BeautifulSoup(r1.text)\n",
    "\n",
    "    total_code = [x.text for x in r1_bs.find_all('code', class_ = 'sourceCode python')]\n",
    "    result = ''\n",
    "\n",
    "    for curr_code in total_code:\n",
    "        code = curr_code.strip()\n",
    "\n",
    "        if not code.startswith('%'):\n",
    "            result += code + '\\n'\n",
    "\n",
    "    return result.strip()"
   ]
  }
 ],
 "metadata": {
  "kernelspec": {
   "display_name": "Python 3 (ipykernel)",
   "language": "python",
   "name": "python3"
  },
  "language_info": {
   "codemirror_mode": {
    "name": "ipython",
    "version": 3
   },
   "file_extension": ".py",
   "mimetype": "text/x-python",
   "name": "python",
   "nbconvert_exporter": "python",
   "pygments_lexer": "ipython3",
   "version": "3.10.13"
  }
 },
 "nbformat": 4,
 "nbformat_minor": 5
}
